{
 "cells": [
  {
   "cell_type": "markdown",
   "metadata": {},
   "source": [
    "### Import packages:"
   ]
  },
  {
   "cell_type": "code",
   "execution_count": 1,
   "metadata": {},
   "outputs": [],
   "source": [
    "import pandas as pd\n",
    "from datetime import datetime\n",
    "import os"
   ]
  },
  {
   "cell_type": "markdown",
   "metadata": {},
   "source": [
    "### Define functions:"
   ]
  },
  {
   "cell_type": "code",
   "execution_count": 2,
   "metadata": {},
   "outputs": [],
   "source": [
    "def CalculatePunctuality(schedule, confirmed):\n",
    "    schedule_mins = schedule.str[:2].astype('int32') * 60 + schedule.str[-2:].astype('int32')\n",
    "    confirmed_mins = confirmed.str[:2].astype('int32') * 60 + confirmed.str[-2:].astype('int32')\n",
    "    return confirmed_mins - schedule_mins\n",
    "\n",
    "def CollectDataFramesActual():\n",
    "    target_directory = os.path.join('FlightData', 'Actual')\n",
    "    files_in_directory = os.listdir(target_directory)\n",
    "    filenames = [filename for filename in files_in_directory if filename != f\"flights_departures_actual.csv\"]\n",
    "\n",
    "    current_date = datetime.today().strftime('%Y-%m-%d')\n",
    "    cutoff_date = \"\"\n",
    "    dfs = []\n",
    "\n",
    "    for filename in filenames:\n",
    "        df = pd.read_csv(os.path.join(target_directory, filename))\n",
    "        dfs.append(df[df[\"Date\"] > cutoff_date])\n",
    "        cutoff_date = df[\"Date\"].max()\n",
    "    \n",
    "    return dfs\n",
    "\n",
    "def CollectDataFramesPlan(is_using_most_recent_plans):\n",
    "    \n",
    "    target_directory = os.path.join('FlightData', 'Plan')\n",
    "    files_in_directory = os.listdir(target_directory)\n",
    "    filenames = [filename for filename in files_in_directory if filename != f\"flights_departures_plan.csv\"]\n",
    "\n",
    "    current_date = datetime.today().strftime('%Y-%m-%d')\n",
    "    cutoff_date = \"\"\n",
    "    dfs = []\n",
    "    \n",
    "    if is_using_most_recent_plans:\n",
    "        cutoff_date = \"a\"\n",
    "        for filename in filenames[::-1]:\n",
    "            df = pd.read_csv(os.path.join(target_directory, filename))\n",
    "            dfs.append(df[df[\"Date\"] < cutoff_date])\n",
    "            cutoff_date = df[\"Date\"].min()\n",
    "    else:\n",
    "        for filename in filenames:\n",
    "            df = pd.read_csv(os.path.join(target_directory, filename))\n",
    "            dfs.append(df[df[\"Date\"] > cutoff_date])\n",
    "            cutoff_date = df[\"Date\"].max()\n",
    "    \n",
    "    return dfs\n",
    "\n",
    "def GetIcelandicWeekdays(weekday):\n",
    "    name_of_days = {'Monday':'Mánudagur',\n",
    "                    'Tuesday': 'Þriðjudagur',\n",
    "                    'Wednesday': 'Miðvikudagur',\n",
    "                    'Thursday': 'Fimmtudagur',\n",
    "                    'Friday': 'Föstudagur',\n",
    "                    'Saturday': 'Laugardagur',\n",
    "                    'Sunday': 'Sunnudagur'}\n",
    "    \n",
    "    if weekday in name_of_days.keys():\n",
    "        return name_of_days[weekday]\n",
    "    return ''\n",
    "\n",
    "def GetPartOfDay(hour_str):\n",
    "    try:\n",
    "        hour = int(hour_str[:2])\n",
    "    except:\n",
    "        return ''\n",
    "    if 0 <= hour <= 23:\n",
    "        if hour < 5: return 'Night'\n",
    "        elif hour < 12: return 'Morning'\n",
    "        elif hour < 18: return 'Day'\n",
    "        return 'Evening'\n",
    "    return ''\n"
   ]
  },
  {
   "cell_type": "markdown",
   "metadata": {},
   "source": [
    "### Actual-scenario:"
   ]
  },
  {
   "cell_type": "code",
   "execution_count": 3,
   "metadata": {},
   "outputs": [],
   "source": [
    "data_frames = CollectDataFramesActual()\n",
    "    \n",
    "df_actual = pd.concat(data_frames, sort=False)\n",
    "df_actual = df_actual[df_actual[\"Confirmed\"].str[0] <= \"2\"]\n",
    "df_actual[\"CreationDate\"] = datetime.today().strftime('%Y-%m-%d')\n",
    "df_actual[\"pMins\"] = CalculatePunctuality(df_actual[\"Scheduled\"], df_actual[\"Confirmed\"])\n",
    "df_actual.to_csv(os.path.join(\"FlightData\",\"Actual\", \"flights_departures_actual.csv\"), index=False)"
   ]
  },
  {
   "cell_type": "markdown",
   "metadata": {},
   "source": [
    "### Plan-scenario:\n",
    "You can sample dataframes in **descending** date-order (from newest to oldest) by letting **is_using_most_recent_plans** = **True**\n",
    "\n",
    "You can sample dataframes in **ascending** date-order (from oldest to newest) by letting **is_using_most_recent_plans** = **False**"
   ]
  },
  {
   "cell_type": "code",
   "execution_count": 4,
   "metadata": {},
   "outputs": [],
   "source": [
    "is_using_most_recent_plans = True\n",
    "data_frames = CollectDataFramesPlan(is_using_most_recent_plans)\n",
    "    \n",
    "df_plan = pd.concat(data_frames, sort=False)\n",
    "df_plan[\"CreationDate\"] = datetime.today().strftime('%Y-%m-%d')\n",
    "df_plan[\"pMins\"] = 0\n",
    "df_plan.to_csv(os.path.join(\"FlightData\", \"Plan\", \"flights_departures_plan.csv\"), index=False)"
   ]
  },
  {
   "cell_type": "markdown",
   "metadata": {},
   "source": [
    "### Combine Scenarios & Add Time-related columns:"
   ]
  },
  {
   "cell_type": "code",
   "execution_count": 5,
   "metadata": {},
   "outputs": [],
   "source": [
    "df = pd.concat([df_actual, df_plan], sort=False)\n",
    "df = df.reset_index(drop=True)\n",
    "\n",
    "df['Date'] = pd.to_datetime(df['Date'])\n",
    "df['WeekDay'] = df.Date.dt.day_name().apply(lambda x: GetIcelandicWeekdays(x) )\n",
    "df['PartOfDay'] = df.Scheduled.apply(lambda x: GetPartOfDay(x))"
   ]
  },
  {
   "cell_type": "markdown",
   "metadata": {},
   "source": [
    "### Save Datasets:"
   ]
  },
  {
   "cell_type": "code",
   "execution_count": 6,
   "metadata": {},
   "outputs": [],
   "source": [
    "df_actual = df[df.Scenario == \"Actual\"].reset_index(drop=True)\n",
    "df_plan = df[df.Scenario == \"Plan\"].reset_index(drop=True)\n",
    "\n",
    "df.to_pickle(os.path.join(\"FlightData\", \"flight_departures.pickle\"))\n",
    "df_actual.to_pickle(os.path.join(\"FlightData\", \"flight_departures_actual.pickle\"))\n",
    "df_plan.to_pickle(os.path.join(\"FlightData\", \"flight_departures_plan.pickle\"))"
   ]
  }
 ],
 "metadata": {
  "kernelspec": {
   "display_name": "Python 3",
   "language": "python",
   "name": "python3"
  },
  "language_info": {
   "codemirror_mode": {
    "name": "ipython",
    "version": 3
   },
   "file_extension": ".py",
   "mimetype": "text/x-python",
   "name": "python",
   "nbconvert_exporter": "python",
   "pygments_lexer": "ipython3",
   "version": "3.8.0"
  }
 },
 "nbformat": 4,
 "nbformat_minor": 2
}
