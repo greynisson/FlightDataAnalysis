{
 "cells": [
  {
   "cell_type": "markdown",
   "metadata": {},
   "source": [
    "# Before you start!"
   ]
  },
  {
   "cell_type": "markdown",
   "metadata": {},
   "source": [
    "You need a driver to run your web browser automatically. This project is built for Microsoft Windows and Google Chrome, so if you are using another operating system or another browser, you probably need to tweak 1 or 2 things a little bit. \n",
    "\n",
    "You can download ChromeDriver here: https://sites.google.com/a/chromium.org/chromedriver/downloads"
   ]
  },
  {
   "cell_type": "markdown",
   "metadata": {},
   "source": [
    "# When you are ready to start:"
   ]
  },
  {
   "cell_type": "markdown",
   "metadata": {},
   "source": [
    "## Import packages:"
   ]
  },
  {
   "cell_type": "code",
   "execution_count": 217,
   "metadata": {},
   "outputs": [],
   "source": [
    "from selenium import webdriver\n",
    "from datetime import datetime, timedelta\n",
    "from pathlib import Path\n",
    "import os\n",
    "import pandas as pd\n",
    "from bs4 import BeautifulSoup as bs"
   ]
  },
  {
   "cell_type": "markdown",
   "metadata": {},
   "source": [
    "## Declare functions:"
   ]
  },
  {
   "cell_type": "code",
   "execution_count": 218,
   "metadata": {},
   "outputs": [],
   "source": [
    "def ConfirmDepartureTime(time_str):\n",
    "    if \"Farin\" in time_str:\n",
    "        return time_str[-5:]\n",
    "    return time_str"
   ]
  },
  {
   "cell_type": "markdown",
   "metadata": {},
   "source": [
    "## Initialize parameters & variables:"
   ]
  },
  {
   "cell_type": "code",
   "execution_count": 233,
   "metadata": {},
   "outputs": [],
   "source": [
    "current_date = datetime.today().strftime('%Y-%m-%d')\n",
    "main_directory = os.getcwd() + \"\\\\FlightData\"\n",
    "directory_actual = main_directory + \"\\\\Actual\"\n",
    "directory_plan = main_directory + \"\\\\Plan\""
   ]
  },
  {
   "cell_type": "markdown",
   "metadata": {},
   "source": [
    "## Initialize directories:"
   ]
  },
  {
   "cell_type": "code",
   "execution_count": 220,
   "metadata": {},
   "outputs": [],
   "source": [
    "Path(main_directory).mkdir(parents=True, exist_ok=True)\n",
    "Path(directory_actuals).mkdir(parents=True, exist_ok=True)\n",
    "Path(directory_plan).mkdir(parents=True, exist_ok=True)"
   ]
  },
  {
   "cell_type": "markdown",
   "metadata": {},
   "source": [
    "### Choose scenario: Actual Data or Plan Data.\n",
    "#### IMPORTANT : Set is_actual_scenario to False if you want to fetch Plan Data\n",
    "\n",
    "#### Actual-scenario: \n",
    "Will fetch the whole flight history that is accessible from the Isavia webpage (the last 2 months or so).\n",
    "\n",
    "#### Plan-scenario: \n",
    "Will fetch the whole flight plan that is accessible from the Isavia webpage (the next 6 months or so)."
   ]
  },
  {
   "cell_type": "code",
   "execution_count": 240,
   "metadata": {},
   "outputs": [],
   "source": [
    "is_actual_scenario = True\n",
    "\n",
    "if is_actual_scenario:\n",
    "    day_adder = -1\n",
    "    target_filename = directory_actuals + f\"\\\\flights_departures_actual_{current_date}.csv\"\n",
    "    actual_filenames = os.listdir(directory_actual)\n",
    "    if len(actual_filenames) > 0:\n",
    "        cutoff_date = max([filename[-14: -4] for filename in actual_filenames])\n",
    "    else:\n",
    "        cutoff_date = \"\"\n",
    "        date_str = current_date\n",
    "else:\n",
    "    day_adder = 1\n",
    "    target_filename = directory_plan + f\"\\\\flights_departures_plan_{current_date}.csv\"\n",
    "    plan_filenames = os.listdir(directory_plan)\n",
    "    \n",
    "    if len(plan_filenames) > 0:\n",
    "        latest_plan_filename = max(plan_filenames)\n",
    "        date_str = pd.read_csv(directory_plan + \"\\\\\" + latest_plan_filename)[\"Date\"].max()\n",
    "    else:\n",
    "        date_str = current_date\n",
    "    \n"
   ]
  },
  {
   "cell_type": "markdown",
   "metadata": {},
   "source": [
    "### Find cutoff-date:"
   ]
  },
  {
   "cell_type": "code",
   "execution_count": 222,
   "metadata": {},
   "outputs": [],
   "source": [
    "# l = [\"2021-05-11\", \"2020-09-01\"]\n",
    "# directory_actuals = os.listdir(\"FlightData\\\\actuals\")\n",
    "# directory_plan = os.listdir(\"FlightData\\\\plan\")\n",
    "# # cutoff_date = max([filename[-14: -4] for filename in directory_actuals]) if len(directory_actuals) > 0 else \"0\"\n",
    "# # cutoff_date = min(l) if len(l) > 0 else \"0\"\n",
    "# latest_plan_filename = max([filename for filename in directory_plan]) if len(directory_plan) > 0 else current_date\n",
    "# date_str = pd.read_csv(\"FlightData\\\\plan\\\\\" + latest_plan_filename)[\"Date\"].max()\n",
    "# test_df\n",
    "\n",
    "\n"
   ]
  },
  {
   "cell_type": "markdown",
   "metadata": {},
   "source": [
    "## Say the magic words:"
   ]
  },
  {
   "cell_type": "code",
   "execution_count": 241,
   "metadata": {},
   "outputs": [
    {
     "name": "stdout",
     "output_type": "stream",
     "text": [
      "Iteration: 1, Date: 2021-09-06, Dataset-length: 54\n",
      "Iteration: 2, Date: 2021-09-05, Dataset-length: 52\n",
      "Data sampling completed!\n",
      "Data saved in a file!\n"
     ]
    }
   ],
   "source": [
    "if is_actual_scenario:\n",
    "    # Just in case...\n",
    "    date_str = current_date\n",
    "\n",
    "days_added = 0\n",
    "Flight_dataset = []\n",
    "# is_request_returning_data = True;\n",
    "is_fetching_data = True\n",
    "\n",
    "while is_fetching_data:\n",
    "    \n",
    "    days_added += day_adder\n",
    "    date_str = (datetime.now() + timedelta(days = days_added)).strftime('%Y-%m-%d')\n",
    "    \n",
    "    browser = webdriver.Chrome(os.getcwd() + \"\\\\chromedriver.exe\")\n",
    "    browser.get(f\"https://www.isavia.is/keflavikurflugvollur/flugupplysingar/brottfarir?d={date_str}\")\n",
    "    html = browser.page_source\n",
    "    browser.close()\n",
    "    \n",
    "    soup = bs(html, \"html.parser\")\n",
    "    dataset = soup.find_all(\"tr\",{\"class\":\"schedule-items-entry\"})\n",
    "    \n",
    "    print(f\"Iteration: {abs(days_added)}, Date: {date_str}, Dataset-length: {len(dataset)}\")\n",
    "    \n",
    "    for line in dataset:\n",
    "        \n",
    "        tmp_data = line.find_all(\"td\")\n",
    "        \n",
    "        data_dict =  {\n",
    "            \"CreationDate\" : current_date\n",
    "            ,\"Date\" : date_str\n",
    "            ,\"Type\" : \"Departure\"\n",
    "            ,\"Scheduled\" : tmp_data[0].text\n",
    "            ,\"Destination\" : tmp_data[1].text\n",
    "            ,\"FlightNumber\" : tmp_data[2].text\n",
    "            ,\"Airline\" : tmp_data[3].text\n",
    "            ,\"Confirmed\" : ConfirmDepartureTime(tmp_data[4].text)\n",
    "        }\n",
    "        \n",
    "        Flight_dataset.append(data_dict)\n",
    "        \n",
    "    if is_actual_scenario:\n",
    "        is_fetching_data = (date_str > cutoff_date) and (len(dataset) > 0)\n",
    "    else:\n",
    "        is_fetching_data = len(dataset) > 0\n",
    "    \n",
    "print(\"Data sampling completed!\")\n",
    "\n",
    "df = pd.DataFrame(Flight_dataset)\n",
    "df = df_actual.assign(Scenario = \"Actual\") if is_actual_scenario else df_actual.assign(Scenario = \"Plan\")\n",
    "df.to_csv(target_filename, index=False)\n",
    "\n",
    "print(\"Data saved in a file!\")"
   ]
  }
 ],
 "metadata": {
  "kernelspec": {
   "display_name": "Python 3",
   "language": "python",
   "name": "python3"
  },
  "language_info": {
   "codemirror_mode": {
    "name": "ipython",
    "version": 3
   },
   "file_extension": ".py",
   "mimetype": "text/x-python",
   "name": "python",
   "nbconvert_exporter": "python",
   "pygments_lexer": "ipython3",
   "version": "3.8.0"
  }
 },
 "nbformat": 4,
 "nbformat_minor": 2
}
