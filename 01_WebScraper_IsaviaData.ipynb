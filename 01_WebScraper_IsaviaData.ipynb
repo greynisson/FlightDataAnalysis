{
 "cells": [
  {
   "cell_type": "markdown",
   "metadata": {},
   "source": [
    "# Before you start!"
   ]
  },
  {
   "cell_type": "markdown",
   "metadata": {},
   "source": [
    "You need a driver to run your web browser automatically. This project is built for Microsoft Windows and Google Chrome, so if you are using another operating system or another browser, you probably need to tweak 1 or 2 things a little bit. \n",
    "\n",
    "You can download ChromeDriver here: https://sites.google.com/a/chromium.org/chromedriver/downloads"
   ]
  },
  {
   "cell_type": "markdown",
   "metadata": {},
   "source": [
    "# When you are ready to start:"
   ]
  },
  {
   "cell_type": "markdown",
   "metadata": {},
   "source": [
    "## Import packages:"
   ]
  },
  {
   "cell_type": "code",
   "execution_count": 2,
   "metadata": {},
   "outputs": [],
   "source": [
    "from selenium import webdriver\n",
    "from datetime import datetime, timedelta\n",
    "from pathlib import Path\n",
    "import os\n",
    "import pandas as pd\n",
    "import numpy as np\n",
    "from bs4 import BeautifulSoup as bs"
   ]
  },
  {
   "cell_type": "markdown",
   "metadata": {},
   "source": [
    "## Declare functions:"
   ]
  },
  {
   "cell_type": "code",
   "execution_count": 3,
   "metadata": {},
   "outputs": [],
   "source": [
    "def ConfirmDepartureTime(time_str):\n",
    "    if \"Farin\" in time_str:\n",
    "        return time_str[-5:]\n",
    "    return time_str\n",
    "\n",
    "def IsFilenameAlreadyExisting(filename):\n",
    "    data_files_existing = os.listdir(directory_actual) + os.listdir(directory_plan)\n",
    "    if filename in data_files_existing:\n",
    "        return True\n",
    "    return False\n",
    "\n",
    "    \n",
    "def CalculatePunctuality(schedule, confirmed):\n",
    "    schedule_mins = schedule.str[:2].astype('int32') * 60 + schedule.str[-2:].astype('int32')\n",
    "    confirmed_mins = confirmed.str[:2].astype('int32') * 60 + confirmed.str[-2:].astype('int32')\n",
    "    return confirmed_mins - schedule_mins\n",
    "\n",
    "def IsMorning(scheduled_time):\n",
    "    time = scheduled_time.str[:2]\n",
    "    is_morning = True if time.astype(str) < \"12\" else False\n",
    "    return is_morning\n"
   ]
  },
  {
   "cell_type": "markdown",
   "metadata": {},
   "source": [
    "## Initialize parameters & variables:"
   ]
  },
  {
   "cell_type": "code",
   "execution_count": 5,
   "metadata": {},
   "outputs": [],
   "source": [
    "# current_date = datetime.today().strftime('%Y-%m-%d')\n",
    "# main_directory = os.getcwd() + \"\\\\FlightData\"\n",
    "# directory_actual = main_directory + \"\\\\Actual\"\n",
    "# directory_plan = main_directory + \"\\\\Plan\""
   ]
  },
  {
   "cell_type": "markdown",
   "metadata": {},
   "source": [
    "## Initialize directories:"
   ]
  },
  {
   "cell_type": "code",
   "execution_count": 4,
   "metadata": {},
   "outputs": [],
   "source": [
    "directory_actual = os.path.join('FlightData', 'Actual')\n",
    "directory_plan = os.path.join('FlightData', 'Plan')\n",
    "\n",
    "Path('FlightData').mkdir(parents=True, exist_ok=True)\n",
    "Path(directory_actual).mkdir(parents=True, exist_ok=True)\n",
    "Path(directory_plan).mkdir(parents=True, exist_ok=True)"
   ]
  },
  {
   "cell_type": "markdown",
   "metadata": {},
   "source": [
    "### Choose scenario: Actual Data or Plan Data.\n",
    "**IMPORTANT :** Set **is_actual_scenario** to **False** if you want to fetch Plan Data\n",
    "\n",
    "#### Actual-scenario: \n",
    "Will fetch the whole flight history that is accessible from the Isavia webpage (the last 2 months or so).\n",
    "\n",
    "#### Plan-scenario: \n",
    "Will fetch the whole flight plan that is accessible from the Isavia webpage (the next 6 months or so)."
   ]
  },
  {
   "cell_type": "code",
   "execution_count": 5,
   "metadata": {},
   "outputs": [],
   "source": [
    "current_date = datetime.today().strftime('%Y-%m-%d')\n",
    "\n",
    "is_actual_scenario = True\n",
    "\n",
    "if is_actual_scenario:\n",
    "    day_adder = -1\n",
    "    target_filename = f\"flights_departures_actual_{current_date}.csv\"\n",
    "    target_filename_path = os.path.join(directory_actual, target_filename)\n",
    "    actual_filenames = os.listdir(directory_actual)\n",
    "    if len(actual_filenames) > 0:\n",
    "        cutoff_date = max(actual_filenames)[-14:-4]\n",
    "    else:\n",
    "        cutoff_date = \"\"\n",
    "    date_str = current_date\n",
    "    \n",
    "else:\n",
    "    day_adder = 1\n",
    "    target_filename = f\"flights_departures_plan_{current_date}.csv\"\n",
    "    target_filename_path = os.path.join(directory_plan, target_filename)\n",
    "    plan_filenames = os.listdir(directory_plan)\n",
    "    \n",
    "#     if len(plan_filenames) > 0:\n",
    "#         latest_plan_filename = max(plan_filenames)\n",
    "#         date_str = pd.read_csv(os.path.join(directory_plan, latest_plan_filename))[\"Date\"].max()\n",
    "#     else:\n",
    "    date_str = current_date\n",
    "    cutoff_date = \"\"\n"
   ]
  },
  {
   "cell_type": "markdown",
   "metadata": {},
   "source": [
    "## Say the magic words:"
   ]
  },
  {
   "cell_type": "code",
   "execution_count": 6,
   "metadata": {},
   "outputs": [
    {
     "name": "stdout",
     "output_type": "stream",
     "text": [
      "Iteration: 1, Date: 2021-10-23, Dataset-length: 43\n",
      "Iteration: 2, Date: 2021-10-22, Dataset-length: 39\n",
      "Iteration: 3, Date: 2021-10-21, Dataset-length: 43\n",
      "Iteration: 4, Date: 2021-10-20, Dataset-length: 22\n",
      "Iteration: 5, Date: 2021-10-19, Dataset-length: 27\n",
      "Iteration: 6, Date: 2021-10-18, Dataset-length: 43\n",
      "Iteration: 7, Date: 2021-10-17, Dataset-length: 41\n",
      "Iteration: 8, Date: 2021-10-16, Dataset-length: 41\n",
      "Iteration: 9, Date: 2021-10-15, Dataset-length: 39\n",
      "Iteration: 10, Date: 2021-10-14, Dataset-length: 46\n",
      "Iteration: 11, Date: 2021-10-13, Dataset-length: 25\n",
      "Iteration: 12, Date: 2021-10-12, Dataset-length: 30\n",
      "Iteration: 13, Date: 2021-10-11, Dataset-length: 44\n",
      "Data sampling completed!\n",
      "Data saved in a file!\n"
     ]
    }
   ],
   "source": [
    "days_added = 0\n",
    "Flight_dataset = []\n",
    "is_fetching_data = cutoff_date < date_str\n",
    "iteration_counter = 0\n",
    "\n",
    "if not IsFilenameAlreadyExisting(target_filename):\n",
    "\n",
    "    while is_fetching_data:\n",
    "        \n",
    "        iteration_counter += 1\n",
    "        date_str = (datetime.strptime(date_str, \"%Y-%m-%d\") + timedelta(days = day_adder)).strftime('%Y-%m-%d')\n",
    "        \n",
    "        browser = webdriver.Chrome(os.path.join(os.getcwd(), \"chromedriver.exe\"))\n",
    "        browser.get(f\"https://www.isavia.is/keflavikurflugvollur/flugupplysingar/brottfarir?d={date_str}\")\n",
    "        html = browser.page_source\n",
    "        browser.close()\n",
    "\n",
    "        soup = bs(html, \"html.parser\")\n",
    "        dataset = soup.find_all(\"tr\",{\"class\":\"schedule-items-entry\"})\n",
    "\n",
    "        print(f\"Iteration: {iteration_counter}, Date: {date_str}, Dataset-length: {len(dataset)}\")\n",
    "\n",
    "        for line in dataset:\n",
    "\n",
    "            tmp_data = line.find_all(\"td\")\n",
    "\n",
    "            data_dict =  {\n",
    "                \"CreationDate\" : current_date\n",
    "                ,\"Date\" : date_str\n",
    "                ,\"Type\" : \"Departure\"\n",
    "                ,\"Scheduled\" : tmp_data[0].text\n",
    "                ,\"Destination\" : tmp_data[1].text\n",
    "                ,\"FlightNumber\" : tmp_data[2].text\n",
    "                ,\"Airline\" : tmp_data[3].text\n",
    "                ,\"Confirmed\" : ConfirmDepartureTime(tmp_data[4].text)\n",
    "            }\n",
    "            \n",
    "            Flight_dataset.append(data_dict)\n",
    "\n",
    "        if is_actual_scenario:\n",
    "            is_fetching_data = (date_str > cutoff_date) and (len(dataset) > 0)\n",
    "        else:\n",
    "            is_fetching_data = len(dataset) > 0  and iteration_counter < 90\n",
    "\n",
    "    print(\"Data sampling completed!\")\n",
    "    \n",
    "    if len(Flight_dataset) > 0:\n",
    "        df = pd.DataFrame(Flight_dataset)\n",
    "        df = df.assign(Scenario = \"Actual\") if is_actual_scenario else df.assign(Scenario = \"Plan\")\n",
    "        df.to_csv(target_filename_path, index=False)\n",
    "\n",
    "        print(\"Data saved in a file!\")\n",
    "        \n",
    "    else:\n",
    "        print(\"Our database was already up-to-date.\")\n",
    "\n",
    "else:\n",
    "    print(f\"File already existing: {target_filename}\")"
   ]
  }
 ],
 "metadata": {
  "kernelspec": {
   "display_name": "Python 3",
   "language": "python",
   "name": "python3"
  },
  "language_info": {
   "codemirror_mode": {
    "name": "ipython",
    "version": 3
   },
   "file_extension": ".py",
   "mimetype": "text/x-python",
   "name": "python",
   "nbconvert_exporter": "python",
   "pygments_lexer": "ipython3",
   "version": "3.8.0"
  }
 },
 "nbformat": 4,
 "nbformat_minor": 2
}
