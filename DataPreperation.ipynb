{
 "cells": [
  {
   "cell_type": "markdown",
   "metadata": {},
   "source": [
    "### Import packages:"
   ]
  },
  {
   "cell_type": "code",
   "execution_count": 29,
   "metadata": {},
   "outputs": [],
   "source": [
    "import pandas as pd\n",
    "from datetime import datetime\n",
    "import os"
   ]
  },
  {
   "cell_type": "markdown",
   "metadata": {},
   "source": [
    "### Define functions:"
   ]
  },
  {
   "cell_type": "code",
   "execution_count": 30,
   "metadata": {},
   "outputs": [],
   "source": [
    "def CalculatePunctuality(schedule, confirmed):\n",
    "    schedule_mins = schedule.str[:2].astype('int32') * 60 + schedule.str[-2:].astype('int32')\n",
    "    confirmed_mins = confirmed.str[:2].astype('int32') * 60 + confirmed.str[-2:].astype('int32')\n",
    "    return confirmed_mins - schedule_mins\n",
    "\n",
    "def CollectDataFrames(scenario):\n",
    "    \n",
    "    scenario = scenario.lower()\n",
    "    if scenario not in ['actual', 'plan']:\n",
    "        return []\n",
    "    \n",
    "    dir = os.listdir(f\"FlightData\\\\{scenario.title()}\")\n",
    "    filenames = [file for file in dir if file != f\"flights_departures_{scenario}.csv\"]\n",
    "\n",
    "    current_date = datetime.today().strftime('%Y-%m-%d')\n",
    "    cutoff_date = \"\"\n",
    "    dfs = []\n",
    "\n",
    "    for filename in filenames:\n",
    "        df_tmp = pd.read_csv(os.path.join(\"FlightData\", scenario.title(), filename))\n",
    "        dfs.append(df_tmp[df_tmp[\"Date\"] > cutoff_date])\n",
    "        cutoff_date = df_tmp[\"Date\"].max()\n",
    "    \n",
    "    return dfs"
   ]
  },
  {
   "cell_type": "markdown",
   "metadata": {},
   "source": [
    "### Actual-scenario:"
   ]
  },
  {
   "cell_type": "code",
   "execution_count": 31,
   "metadata": {},
   "outputs": [],
   "source": [
    "data_frames = CollectDataFrames(\"actual\")\n",
    "    \n",
    "df_actual = pd.concat(data_frames, sort=False)\n",
    "df_actual = df_actual[df_actual[\"Confirmed\"].str[0] <= \"2\"]\n",
    "df_actual[\"CreationDate\"] = datetime.today().strftime('%Y-%m-%d')\n",
    "df_actual[\"PunctualityMins\"] = CalculatePunctuality(df_actual[\"Scheduled\"], df_actual[\"Confirmed\"])\n",
    "df_actual[\"Punctuality\"] = df_actual.apply(lambda row : 1 if row[\"PunctualityMins\"] > 0 else -1, axis=1)\n",
    "df_actual.to_csv(os.path.join(\"FlightData\",\"Actual\", \"flights_departures_actual.csv\"), index=False)"
   ]
  },
  {
   "cell_type": "markdown",
   "metadata": {},
   "source": [
    "### Plan-scenario:"
   ]
  },
  {
   "cell_type": "code",
   "execution_count": 32,
   "metadata": {},
   "outputs": [],
   "source": [
    "data_frames = CollectDataFrames(\"plan\")\n",
    "    \n",
    "df_plan = pd.concat(data_frames, sort=False)\n",
    "df_plan[\"CreationDate\"] = datetime.today().strftime('%Y-%m-%d')\n",
    "df_plan[\"PunctualityMins\"] = 0\n",
    "df_plan[\"Punctuality\"] = 0\n",
    "df_plan.to_csv(os.path.join(\"FlightData\", \"Plan\", \"flights_departures_plan.csv\"), index=False)"
   ]
  },
  {
   "cell_type": "markdown",
   "metadata": {},
   "source": [
    "### Combine Scenarios & Add Time-related columns:"
   ]
  },
  {
   "cell_type": "code",
   "execution_count": 33,
   "metadata": {},
   "outputs": [],
   "source": [
    "df = pd.concat([df_actual, df_plan])\n",
    "df = df.reset_index(drop=True)\n",
    "\n",
    "df['Date'] = pd.to_datetime(df['Date'])\n",
    "df['Year'] = df['Date'].dt.year\n",
    "df['Quarter'] = df['Date'].dt.quarter\n",
    "df['Month'] = df['Date'].dt.month\n",
    "df['Week'] = df['Date'].dt.week\n",
    "df['Day'] = df['Date'].dt.day\n",
    "df['WeekDay'] = df['Date'].dt.day_name()\n",
    "\n",
    "df[\"IsMorning\"] = True\n",
    "i = df[(df.Scheduled.str[0:2].astype('int32') >= 12)][\"IsMorning\"].index\n",
    "df.loc[i,\"IsMorning\"] = False"
   ]
  },
  {
   "cell_type": "markdown",
   "metadata": {},
   "source": [
    "### Save Datasets:"
   ]
  },
  {
   "cell_type": "code",
   "execution_count": 35,
   "metadata": {},
   "outputs": [],
   "source": [
    "df_actual = df[df.Scenario == \"Actual\"].reset_index(drop=True)\n",
    "df_plan = df[df.Scenario == \"Plan\"].reset_index(drop=True)\n",
    "\n",
    "df.to_pickle(os.path.join(\"FlightData\", \"flight_departures.pickle\"))\n",
    "df_actual.to_pickle(os.path.join(\"FlightData\", \"flight_departures_actual.pickle\"))\n",
    "df_plan.to_pickle(os.path.join(\"FlightData\", \"flight_departures_plan.pickle\"))"
   ]
  }
 ],
 "metadata": {
  "kernelspec": {
   "display_name": "Python 3",
   "language": "python",
   "name": "python3"
  },
  "language_info": {
   "codemirror_mode": {
    "name": "ipython",
    "version": 3
   },
   "file_extension": ".py",
   "mimetype": "text/x-python",
   "name": "python",
   "nbconvert_exporter": "python",
   "pygments_lexer": "ipython3",
   "version": "3.8.0"
  }
 },
 "nbformat": 4,
 "nbformat_minor": 2
}
