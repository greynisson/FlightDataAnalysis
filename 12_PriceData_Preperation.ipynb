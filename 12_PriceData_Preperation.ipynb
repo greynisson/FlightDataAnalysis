{
 "cells": [
  {
   "cell_type": "markdown",
   "metadata": {},
   "source": [
    "## Import libraries:"
   ]
  },
  {
   "cell_type": "code",
   "execution_count": 1,
   "metadata": {},
   "outputs": [],
   "source": [
    "import pandas as pd\n",
    "import os\n",
    "\n",
    "idx = pd.IndexSlice"
   ]
  },
  {
   "cell_type": "markdown",
   "metadata": {},
   "source": [
    "## Define functions:"
   ]
  },
  {
   "cell_type": "code",
   "execution_count": 3,
   "metadata": {},
   "outputs": [],
   "source": [
    "def GetIcelandicWeekdays(weekday):\n",
    "    name_of_days = {'Monday':'Mán',\n",
    "                    'Tuesday': 'Þri',\n",
    "                    'Wednesday': 'Mið',\n",
    "                    'Thursday': 'Fim',\n",
    "                    'Friday': 'Fös',\n",
    "                    'Saturday': 'Lau',\n",
    "                    'Sunday': 'Sun'}\n",
    "    \n",
    "    if weekday in name_of_days.keys():\n",
    "        return name_of_days[weekday]\n",
    "    return ''\n",
    "\n",
    "def GetContinent(dest):\n",
    "    America = ['BOS', 'ORD', 'NYC', 'MCO', 'SEA', 'YTO', 'IAD']\n",
    "    if dest in America: return 'America'\n",
    "    return 'Europe'\n",
    "\n",
    "\n",
    "# def GetNumberOfDays"
   ]
  },
  {
   "cell_type": "markdown",
   "metadata": {},
   "source": [
    "## Read datasets:"
   ]
  },
  {
   "cell_type": "code",
   "execution_count": 14,
   "metadata": {},
   "outputs": [],
   "source": [
    "directories_airlines = [d for d in os.listdir('PlaneTicketData') if '.' not in d]\n",
    "file_paths = []\n",
    "dfs = []\n",
    "\n",
    "for directory in directories_airlines:\n",
    "    for filename in os.listdir(os.path.join('PlaneTicketData', directory)):\n",
    "        file_paths.append(os.path.join('PlaneTicketData', directory, filename))\n",
    "\n",
    "for file in file_paths:\n",
    "    dfs.append(pd.read_csv(file))\n",
    "\n",
    "df = pd.concat(dfs)"
   ]
  },
  {
   "cell_type": "markdown",
   "metadata": {},
   "source": [
    "## Prepering data:"
   ]
  },
  {
   "cell_type": "code",
   "execution_count": null,
   "metadata": {},
   "outputs": [],
   "source": [
    "df['DateOut'] = pd.to_datetime(df['DateOut'])\n",
    "df['DateBack'] = pd.to_datetime(df['DateBack'])\n",
    "df['Weekday'] = df.DateOut.dt.day_name().apply(lambda x: GetIcelandicWeekdays(x) )\n",
    "df['Continent'] = df.Destination.apply(lambda dest: GetContinent(dest))\n",
    "df = df.assign(Days = (df.DateBack - df.DateOut).dt.days).drop(columns=['DateBack'])\n",
    "\n",
    "df = df.reset_index(drop=True)"
   ]
  },
  {
   "cell_type": "markdown",
   "metadata": {},
   "source": [
    "## Saving dataset:"
   ]
  },
  {
   "cell_type": "code",
   "execution_count": null,
   "metadata": {},
   "outputs": [],
   "source": [
    "df.to_pickle(os.path.join('PlaneTicketData', 'PlaneTicketPrice.pickle'))"
   ]
  }
 ],
 "metadata": {
  "kernelspec": {
   "display_name": "Python 3",
   "language": "python",
   "name": "python3"
  },
  "language_info": {
   "codemirror_mode": {
    "name": "ipython",
    "version": 3
   },
   "file_extension": ".py",
   "mimetype": "text/x-python",
   "name": "python",
   "nbconvert_exporter": "python",
   "pygments_lexer": "ipython3",
   "version": "3.8.0"
  }
 },
 "nbformat": 4,
 "nbformat_minor": 2
}
