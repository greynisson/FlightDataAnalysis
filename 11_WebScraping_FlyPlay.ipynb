{
 "cells": [
  {
   "cell_type": "markdown",
   "metadata": {},
   "source": [
    "## Import libraries:"
   ]
  },
  {
   "cell_type": "code",
   "execution_count": 93,
   "metadata": {},
   "outputs": [],
   "source": [
    "from selenium import webdriver\n",
    "from datetime import datetime, timedelta\n",
    "from pathlib import Path\n",
    "import os\n",
    "import pandas as pd\n",
    "import numpy as np\n",
    "from bs4 import BeautifulSoup as bs\n",
    "import time\n",
    "import requests"
   ]
  },
  {
   "cell_type": "markdown",
   "metadata": {},
   "source": [
    "## Define functions:"
   ]
  },
  {
   "cell_type": "code",
   "execution_count": 2,
   "metadata": {},
   "outputs": [],
   "source": [
    "def IsFilenameAlreadyExisting(filename):\n",
    "    data_files_existing = os.listdir(directory_actual) + os.listdir(directory_plan)\n",
    "    if filename in data_files_existing:\n",
    "        return True\n",
    "    return False"
   ]
  },
  {
   "cell_type": "markdown",
   "metadata": {},
   "source": [
    "## Initialize directories:"
   ]
  },
  {
   "cell_type": "code",
   "execution_count": 4,
   "metadata": {},
   "outputs": [],
   "source": [
    "dir_play = os.path.join('PlainTicketData', 'Play')\n",
    "dir_iceair = os.path.join('PlainTicketData', 'Icelandair')\n",
    "\n",
    "Path('PlainTicketData').mkdir(parents=True, exist_ok=True)\n",
    "Path(dir_play).mkdir(parents=True, exist_ok=True)\n",
    "Path(dir_iceair).mkdir(parents=True, exist_ok=True)"
   ]
  },
  {
   "cell_type": "markdown",
   "metadata": {},
   "source": [
    "## Initialize variables:"
   ]
  },
  {
   "cell_type": "code",
   "execution_count": null,
   "metadata": {},
   "outputs": [],
   "source": [
    "current_date = datetime.today().strftime('%Y-%m-%d')\n",
    "\n",
    "is_using_play = True\n",
    "\n",
    "if is_using_play:\n",
    "    target_filename = f\"PlainTicketPrice_Play_{current_date}.csv\"\n",
    "    target_filename_path = os.path.join('PlainTicketData', 'Play')  \n",
    "else:\n",
    "    target_filename = f\"PlainTicketPrice_Icelandair_{current_date}.csv\"\n",
    "    target_filename_path = os.path.join('PlainTicketData', 'Icelandair')"
   ]
  },
  {
   "cell_type": "code",
   "execution_count": 111,
   "metadata": {},
   "outputs": [],
   "source": [
    "import json"
   ]
  },
  {
   "cell_type": "markdown",
   "metadata": {},
   "source": [
    "## Steal prices from Play:"
   ]
  },
  {
   "cell_type": "code",
   "execution_count": 134,
   "metadata": {},
   "outputs": [],
   "source": [
    "url = \"https://flyplay.com/api/graphql\"\n",
    "headers = {\"Content-type\": \"application/json\"}\n",
    "params = {\n",
    "  \"operationName\": \"SearchFormCalendarPrices\",\n",
    "  \"variables\": {\n",
    "    \"origin\": \"KEF\",\n",
    "    \"destination\": \"ALC\",\n",
    "    \"startingDate\": {\n",
    "      \"month\": 10,\n",
    "      \"year\": 2021\n",
    "    },\n",
    "    \"currency\": \"EUR\",\n",
    "    \"numberOfWeeks\": 10\n",
    "  },\n",
    "  \"query\": \"query SearchFormCalendarPrices($origin: String!, $destination: String!, $startingDate: InputStartingDate!, $currency: String!, $numberOfWeeks: Int, $roundTrip: Boolean!) {\\n  lowestPrices(\\n    origin: $origin\\n    destination: $destination\\n    startingDate: $startingDate\\n    currency: $currency\\n    numberOfWeeks: $numberOfWeeks\\n    roundTrip: $roundTrip\\n  ) {\\n    outbound {\\n      date\\n      price\\n      __typename\\n    }\\n    homebound {\\n      date\\n      price\\n      __typename\\n    }\\n    __typename\\n  }\\n}\\n\"\n",
    "}\n",
    "\n",
    "\n",
    "r = requests.post(url, headers = headers, params = params)"
   ]
  },
  {
   "cell_type": "code",
   "execution_count": 135,
   "metadata": {},
   "outputs": [
    {
     "data": {
      "text/plain": [
       "500"
      ]
     },
     "execution_count": 135,
     "metadata": {},
     "output_type": "execute_result"
    }
   ],
   "source": [
    "r.status_code"
   ]
  },
  {
   "cell_type": "code",
   "execution_count": 92,
   "metadata": {},
   "outputs": [
    {
     "name": "stdout",
     "output_type": "stream",
     "text": [
      "Button From clicked\n"
     ]
    },
    {
     "ename": "ElementClickInterceptedException",
     "evalue": "Message: element click intercepted: Element <li tabindex=\"-1\" role=\"option\" id=\"airportsAutocomplete-option-9\" data-option-index=\"9\" aria-disabled=\"false\" aria-selected=\"false\" class=\"MuiAutocomplete-option\">...</li> is not clickable at point (194, 550). Other element would receive the click: <div id=\"CybotCookiebotDialogBodyContentText\" lang=\"en\">...</div>\n  (Session info: chrome=94.0.4606.61)\n",
     "output_type": "error",
     "traceback": [
      "\u001b[1;31m---------------------------------------------------------------------------\u001b[0m",
      "\u001b[1;31mElementClickInterceptedException\u001b[0m          Traceback (most recent call last)",
      "\u001b[1;32m<ipython-input-92-240867e9935a>\u001b[0m in \u001b[0;36m<module>\u001b[1;34m\u001b[0m\n\u001b[0;32m     23\u001b[0m \u001b[0mtime\u001b[0m\u001b[1;33m.\u001b[0m\u001b[0msleep\u001b[0m\u001b[1;33m(\u001b[0m\u001b[1;36m2\u001b[0m\u001b[1;33m)\u001b[0m\u001b[1;33m\u001b[0m\u001b[1;33m\u001b[0m\u001b[0m\n\u001b[0;32m     24\u001b[0m \u001b[0mli_rvk\u001b[0m \u001b[1;33m=\u001b[0m \u001b[0mbrowser\u001b[0m\u001b[1;33m.\u001b[0m\u001b[0mfind_element_by_id\u001b[0m\u001b[1;33m(\u001b[0m\u001b[1;34m'airportsAutocomplete-option-9'\u001b[0m\u001b[1;33m)\u001b[0m\u001b[1;33m\u001b[0m\u001b[1;33m\u001b[0m\u001b[0m\n\u001b[1;32m---> 25\u001b[1;33m \u001b[0mli_rvk\u001b[0m\u001b[1;33m.\u001b[0m\u001b[0mclick\u001b[0m\u001b[1;33m(\u001b[0m\u001b[1;33m)\u001b[0m\u001b[1;33m\u001b[0m\u001b[1;33m\u001b[0m\u001b[0m\n\u001b[0m\u001b[0;32m     26\u001b[0m \u001b[0mprint\u001b[0m\u001b[1;33m(\u001b[0m\u001b[1;34m\"list-item clicked\"\u001b[0m\u001b[1;33m)\u001b[0m\u001b[1;33m\u001b[0m\u001b[1;33m\u001b[0m\u001b[0m\n\u001b[0;32m     27\u001b[0m \u001b[0mtime\u001b[0m\u001b[1;33m.\u001b[0m\u001b[0msleep\u001b[0m\u001b[1;33m(\u001b[0m\u001b[1;36m3\u001b[0m\u001b[1;33m)\u001b[0m\u001b[1;33m\u001b[0m\u001b[1;33m\u001b[0m\u001b[0m\n",
      "\u001b[1;32mc:\\users\\garda\\appdata\\local\\programs\\python\\python38-32\\lib\\site-packages\\selenium\\webdriver\\remote\\webelement.py\u001b[0m in \u001b[0;36mclick\u001b[1;34m(self)\u001b[0m\n\u001b[0;32m     78\u001b[0m     \u001b[1;32mdef\u001b[0m \u001b[0mclick\u001b[0m\u001b[1;33m(\u001b[0m\u001b[0mself\u001b[0m\u001b[1;33m)\u001b[0m\u001b[1;33m:\u001b[0m\u001b[1;33m\u001b[0m\u001b[1;33m\u001b[0m\u001b[0m\n\u001b[0;32m     79\u001b[0m         \u001b[1;34m\"\"\"Clicks the element.\"\"\"\u001b[0m\u001b[1;33m\u001b[0m\u001b[1;33m\u001b[0m\u001b[0m\n\u001b[1;32m---> 80\u001b[1;33m         \u001b[0mself\u001b[0m\u001b[1;33m.\u001b[0m\u001b[0m_execute\u001b[0m\u001b[1;33m(\u001b[0m\u001b[0mCommand\u001b[0m\u001b[1;33m.\u001b[0m\u001b[0mCLICK_ELEMENT\u001b[0m\u001b[1;33m)\u001b[0m\u001b[1;33m\u001b[0m\u001b[1;33m\u001b[0m\u001b[0m\n\u001b[0m\u001b[0;32m     81\u001b[0m \u001b[1;33m\u001b[0m\u001b[0m\n\u001b[0;32m     82\u001b[0m     \u001b[1;32mdef\u001b[0m \u001b[0msubmit\u001b[0m\u001b[1;33m(\u001b[0m\u001b[0mself\u001b[0m\u001b[1;33m)\u001b[0m\u001b[1;33m:\u001b[0m\u001b[1;33m\u001b[0m\u001b[1;33m\u001b[0m\u001b[0m\n",
      "\u001b[1;32mc:\\users\\garda\\appdata\\local\\programs\\python\\python38-32\\lib\\site-packages\\selenium\\webdriver\\remote\\webelement.py\u001b[0m in \u001b[0;36m_execute\u001b[1;34m(self, command, params)\u001b[0m\n\u001b[0;32m    631\u001b[0m             \u001b[0mparams\u001b[0m \u001b[1;33m=\u001b[0m \u001b[1;33m{\u001b[0m\u001b[1;33m}\u001b[0m\u001b[1;33m\u001b[0m\u001b[1;33m\u001b[0m\u001b[0m\n\u001b[0;32m    632\u001b[0m         \u001b[0mparams\u001b[0m\u001b[1;33m[\u001b[0m\u001b[1;34m'id'\u001b[0m\u001b[1;33m]\u001b[0m \u001b[1;33m=\u001b[0m \u001b[0mself\u001b[0m\u001b[1;33m.\u001b[0m\u001b[0m_id\u001b[0m\u001b[1;33m\u001b[0m\u001b[1;33m\u001b[0m\u001b[0m\n\u001b[1;32m--> 633\u001b[1;33m         \u001b[1;32mreturn\u001b[0m \u001b[0mself\u001b[0m\u001b[1;33m.\u001b[0m\u001b[0m_parent\u001b[0m\u001b[1;33m.\u001b[0m\u001b[0mexecute\u001b[0m\u001b[1;33m(\u001b[0m\u001b[0mcommand\u001b[0m\u001b[1;33m,\u001b[0m \u001b[0mparams\u001b[0m\u001b[1;33m)\u001b[0m\u001b[1;33m\u001b[0m\u001b[1;33m\u001b[0m\u001b[0m\n\u001b[0m\u001b[0;32m    634\u001b[0m \u001b[1;33m\u001b[0m\u001b[0m\n\u001b[0;32m    635\u001b[0m     \u001b[1;32mdef\u001b[0m \u001b[0mfind_element\u001b[0m\u001b[1;33m(\u001b[0m\u001b[0mself\u001b[0m\u001b[1;33m,\u001b[0m \u001b[0mby\u001b[0m\u001b[1;33m=\u001b[0m\u001b[0mBy\u001b[0m\u001b[1;33m.\u001b[0m\u001b[0mID\u001b[0m\u001b[1;33m,\u001b[0m \u001b[0mvalue\u001b[0m\u001b[1;33m=\u001b[0m\u001b[1;32mNone\u001b[0m\u001b[1;33m)\u001b[0m\u001b[1;33m:\u001b[0m\u001b[1;33m\u001b[0m\u001b[1;33m\u001b[0m\u001b[0m\n",
      "\u001b[1;32mc:\\users\\garda\\appdata\\local\\programs\\python\\python38-32\\lib\\site-packages\\selenium\\webdriver\\remote\\webdriver.py\u001b[0m in \u001b[0;36mexecute\u001b[1;34m(self, driver_command, params)\u001b[0m\n\u001b[0;32m    319\u001b[0m         \u001b[0mresponse\u001b[0m \u001b[1;33m=\u001b[0m \u001b[0mself\u001b[0m\u001b[1;33m.\u001b[0m\u001b[0mcommand_executor\u001b[0m\u001b[1;33m.\u001b[0m\u001b[0mexecute\u001b[0m\u001b[1;33m(\u001b[0m\u001b[0mdriver_command\u001b[0m\u001b[1;33m,\u001b[0m \u001b[0mparams\u001b[0m\u001b[1;33m)\u001b[0m\u001b[1;33m\u001b[0m\u001b[1;33m\u001b[0m\u001b[0m\n\u001b[0;32m    320\u001b[0m         \u001b[1;32mif\u001b[0m \u001b[0mresponse\u001b[0m\u001b[1;33m:\u001b[0m\u001b[1;33m\u001b[0m\u001b[1;33m\u001b[0m\u001b[0m\n\u001b[1;32m--> 321\u001b[1;33m             \u001b[0mself\u001b[0m\u001b[1;33m.\u001b[0m\u001b[0merror_handler\u001b[0m\u001b[1;33m.\u001b[0m\u001b[0mcheck_response\u001b[0m\u001b[1;33m(\u001b[0m\u001b[0mresponse\u001b[0m\u001b[1;33m)\u001b[0m\u001b[1;33m\u001b[0m\u001b[1;33m\u001b[0m\u001b[0m\n\u001b[0m\u001b[0;32m    322\u001b[0m             response['value'] = self._unwrap_value(\n\u001b[0;32m    323\u001b[0m                 response.get('value', None))\n",
      "\u001b[1;32mc:\\users\\garda\\appdata\\local\\programs\\python\\python38-32\\lib\\site-packages\\selenium\\webdriver\\remote\\errorhandler.py\u001b[0m in \u001b[0;36mcheck_response\u001b[1;34m(self, response)\u001b[0m\n\u001b[0;32m    240\u001b[0m                 \u001b[0malert_text\u001b[0m \u001b[1;33m=\u001b[0m \u001b[0mvalue\u001b[0m\u001b[1;33m[\u001b[0m\u001b[1;34m'alert'\u001b[0m\u001b[1;33m]\u001b[0m\u001b[1;33m.\u001b[0m\u001b[0mget\u001b[0m\u001b[1;33m(\u001b[0m\u001b[1;34m'text'\u001b[0m\u001b[1;33m)\u001b[0m\u001b[1;33m\u001b[0m\u001b[1;33m\u001b[0m\u001b[0m\n\u001b[0;32m    241\u001b[0m             \u001b[1;32mraise\u001b[0m \u001b[0mexception_class\u001b[0m\u001b[1;33m(\u001b[0m\u001b[0mmessage\u001b[0m\u001b[1;33m,\u001b[0m \u001b[0mscreen\u001b[0m\u001b[1;33m,\u001b[0m \u001b[0mstacktrace\u001b[0m\u001b[1;33m,\u001b[0m \u001b[0malert_text\u001b[0m\u001b[1;33m)\u001b[0m\u001b[1;33m\u001b[0m\u001b[1;33m\u001b[0m\u001b[0m\n\u001b[1;32m--> 242\u001b[1;33m         \u001b[1;32mraise\u001b[0m \u001b[0mexception_class\u001b[0m\u001b[1;33m(\u001b[0m\u001b[0mmessage\u001b[0m\u001b[1;33m,\u001b[0m \u001b[0mscreen\u001b[0m\u001b[1;33m,\u001b[0m \u001b[0mstacktrace\u001b[0m\u001b[1;33m)\u001b[0m\u001b[1;33m\u001b[0m\u001b[1;33m\u001b[0m\u001b[0m\n\u001b[0m\u001b[0;32m    243\u001b[0m \u001b[1;33m\u001b[0m\u001b[0m\n\u001b[0;32m    244\u001b[0m     \u001b[1;32mdef\u001b[0m \u001b[0m_value_or_default\u001b[0m\u001b[1;33m(\u001b[0m\u001b[0mself\u001b[0m\u001b[1;33m,\u001b[0m \u001b[0mobj\u001b[0m\u001b[1;33m,\u001b[0m \u001b[0mkey\u001b[0m\u001b[1;33m,\u001b[0m \u001b[0mdefault\u001b[0m\u001b[1;33m)\u001b[0m\u001b[1;33m:\u001b[0m\u001b[1;33m\u001b[0m\u001b[1;33m\u001b[0m\u001b[0m\n",
      "\u001b[1;31mElementClickInterceptedException\u001b[0m: Message: element click intercepted: Element <li tabindex=\"-1\" role=\"option\" id=\"airportsAutocomplete-option-9\" data-option-index=\"9\" aria-disabled=\"false\" aria-selected=\"false\" class=\"MuiAutocomplete-option\">...</li> is not clickable at point (194, 550). Other element would receive the click: <div id=\"CybotCookiebotDialogBodyContentText\" lang=\"en\">...</div>\n  (Session info: chrome=94.0.4606.61)\n"
     ]
    }
   ],
   "source": [
    "price_dataset = []\n",
    "# is_fetching_data = cutoff_date < date_str\n",
    "# iteration_counter = 0\n",
    "\n",
    "browser = webdriver.Chrome(os.path.join(os.getcwd(), \"chromedriver.exe\"))\n",
    "browser.get(\"https://flyplay.com/is\")\n",
    "\n",
    "html = browser.page_source\n",
    "soup = bs(html, \"html.parser\")\n",
    "time.sleep(5)\n",
    "\n",
    "browser.implicitly_wait(5)\n",
    "\n",
    "btn_destination_from = browser.find_element_by_id('originAirportButton')\n",
    "btn_destination_to = browser.find_element_by_id('destinationAirportButton')\n",
    "btn_date_from = browser.find_element_by_id('departureDateButton')\n",
    "btn_date_to = browser.find_element_by_id('returnDateButton')\n",
    "\n",
    "h1_element = soup.find(\"h1\", {\"class\":\"MuiTypography-root\", \"class\":\"MuiTypography-h1\", \"class\":\"css-1wpcjjp-MuiTypography-root\"})\n",
    "\n",
    "btn_destination_from.click()\n",
    "print(\"Button From clicked\")\n",
    "time.sleep(2)\n",
    "li_rvk = browser.find_element_by_id('airportsAutocomplete-option-9')\n",
    "li_rvk.click()\n",
    "print(\"list-item clicked\")\n",
    "time.sleep(3)\n",
    "# btn_destination_from.click()\n",
    "# print(\"Button To clicked\")\n",
    "# time.sleep(2)\n",
    "li_alc = browser.find_element_by_id('airportsAutocomplete-option-0')\n",
    "li_alc.click()\n",
    "print(\"list-item clicked\")\n",
    "time.sleep(2)\n",
    "btn_date_from.click()\n",
    "print(\"Button DateFrom clicked\")\n",
    "time.sleep(5)\n",
    "# btn_date_to.click()\n",
    "# print(\"Button DateTo clicked\")\n",
    "# time.sleep(5)\n",
    "\n",
    "\n",
    "browser.close()\n",
    "    \n",
    "# html = browser.page_source\n",
    "# soup = bs(html, \"html.parser\")\n",
    "\n",
    "# all_alicante = \n",
    "# all_buttons = soup.find_all('button')\n",
    "\n",
    "# browser.close()\n",
    "# from_destination_button = soup.find_all(\"button\", {\"id\": \"originAirportButton\"})\n",
    "# from_destination_button.click()\n",
    "\n",
    "# soup = bs(html, \"html.parser\")\n",
    "# dataset = soup.find_all(\"div\",{\"class\":\"uiBox-root\", \"class\": \"css-ug2ldo\" })\n",
    "\n",
    "\n",
    "\n",
    "# if not IsFilenameAlreadyExisting(target_filename):\n",
    "\n",
    "#     while is_fetching_data:\n",
    "        \n",
    "#         iteration_counter += 1\n",
    "#         date_str = (datetime.strptime(date_str, \"%Y-%m-%d\") + timedelta(days = day_adder)).strftime('%Y-%m-%d')\n",
    "        \n",
    "#         browser = webdriver.Chrome(os.path.join(os.getcwd(), \"chromedriver.exe\"))\n",
    "#         browser.get(\"https://flyplay.com/is\")\n",
    "#         html = browser.page_source\n",
    "#         browser.close()\n",
    "\n",
    "#         soup = bs(html, \"html.parser\")\n",
    "#         dataset = soup.find_all(\"tr\",{\"class\":\"schedule-items-entry\"})\n",
    "\n",
    "#         print(f\"Iteration: {iteration_counter}, Date: {date_str}, Dataset-length: {len(dataset)}\")\n",
    "\n",
    "#         for line in dataset:\n",
    "\n",
    "#             tmp_data = line.find_all(\"td\")\n",
    "\n",
    "#             data_dict =  {\n",
    "#                 \"CreationDate\" : current_date\n",
    "#                 ,\"Date\" : date_str\n",
    "#                 ,\"Type\" : \"Departure\"\n",
    "#                 ,\"Scheduled\" : tmp_data[0].text\n",
    "#                 ,\"Destination\" : tmp_data[1].text\n",
    "#                 ,\"FlightNumber\" : tmp_data[2].text\n",
    "#                 ,\"Airline\" : tmp_data[3].text\n",
    "#                 ,\"Confirmed\" : ConfirmDepartureTime(tmp_data[4].text)\n",
    "#             }\n",
    "            \n",
    "#             Flight_dataset.append(data_dict)\n",
    "\n",
    "#         if is_actual_scenario:\n",
    "#             is_fetching_data = (date_str > cutoff_date) and (len(dataset) > 0)\n",
    "#         else:\n",
    "#             is_fetching_data = len(dataset) > 0  and iteration_counter < 90\n",
    "\n",
    "#     print(\"Data sampling completed!\")\n",
    "    \n",
    "#     if len(Flight_dataset) > 0:\n",
    "#         df = pd.DataFrame(Flight_dataset)\n",
    "#         df = df.assign(Scenario = \"Actual\") if is_actual_scenario else df.assign(Scenario = \"Plan\")\n",
    "#         df.to_csv(target_filename_path, index=False)\n",
    "\n",
    "#         print(\"Data saved in a file!\")\n",
    "        \n",
    "#     else:\n",
    "#         print(\"Our database was already up-to-date.\")\n",
    "\n",
    "# else:\n",
    "#     print(f\"File already existing: {target_filename}\")"
   ]
  },
  {
   "cell_type": "code",
   "execution_count": 83,
   "metadata": {
    "scrolled": false
   },
   "outputs": [
    {
     "ename": "ElementClickInterceptedException",
     "evalue": "Message: element click intercepted: Element <button class=\"MuiButton-root MuiButton-text MuiButton-textPrimary MuiButton-sizeMedium MuiButton-textSizeMedium MuiButton-fullWidth MuiButtonBase-root MuiTypography-root MuiTypography-body1 css-1g8lugt-MuiButtonBase-root-MuiButton-root-MuiTypography-root\" tabindex=\"0\" type=\"button\" id=\"destinationAirportButton\">...</button> is not clickable at point (742, 256). Other element would receive the click: <span class=\"MuiButton-label css-8xplcm-MuiButton-label\">...</span>\n  (Session info: chrome=94.0.4606.61)\n",
     "output_type": "error",
     "traceback": [
      "\u001b[1;31m---------------------------------------------------------------------------\u001b[0m",
      "\u001b[1;31mElementClickInterceptedException\u001b[0m          Traceback (most recent call last)",
      "\u001b[1;32m<ipython-input-83-a582a5fe8822>\u001b[0m in \u001b[0;36m<module>\u001b[1;34m\u001b[0m\n\u001b[1;32m----> 1\u001b[1;33m \u001b[0mbtn_destination_to\u001b[0m\u001b[1;33m.\u001b[0m\u001b[0mclick\u001b[0m\u001b[1;33m(\u001b[0m\u001b[1;33m)\u001b[0m\u001b[1;33m\u001b[0m\u001b[1;33m\u001b[0m\u001b[0m\n\u001b[0m",
      "\u001b[1;32mc:\\users\\garda\\appdata\\local\\programs\\python\\python38-32\\lib\\site-packages\\selenium\\webdriver\\remote\\webelement.py\u001b[0m in \u001b[0;36mclick\u001b[1;34m(self)\u001b[0m\n\u001b[0;32m     78\u001b[0m     \u001b[1;32mdef\u001b[0m \u001b[0mclick\u001b[0m\u001b[1;33m(\u001b[0m\u001b[0mself\u001b[0m\u001b[1;33m)\u001b[0m\u001b[1;33m:\u001b[0m\u001b[1;33m\u001b[0m\u001b[1;33m\u001b[0m\u001b[0m\n\u001b[0;32m     79\u001b[0m         \u001b[1;34m\"\"\"Clicks the element.\"\"\"\u001b[0m\u001b[1;33m\u001b[0m\u001b[1;33m\u001b[0m\u001b[0m\n\u001b[1;32m---> 80\u001b[1;33m         \u001b[0mself\u001b[0m\u001b[1;33m.\u001b[0m\u001b[0m_execute\u001b[0m\u001b[1;33m(\u001b[0m\u001b[0mCommand\u001b[0m\u001b[1;33m.\u001b[0m\u001b[0mCLICK_ELEMENT\u001b[0m\u001b[1;33m)\u001b[0m\u001b[1;33m\u001b[0m\u001b[1;33m\u001b[0m\u001b[0m\n\u001b[0m\u001b[0;32m     81\u001b[0m \u001b[1;33m\u001b[0m\u001b[0m\n\u001b[0;32m     82\u001b[0m     \u001b[1;32mdef\u001b[0m \u001b[0msubmit\u001b[0m\u001b[1;33m(\u001b[0m\u001b[0mself\u001b[0m\u001b[1;33m)\u001b[0m\u001b[1;33m:\u001b[0m\u001b[1;33m\u001b[0m\u001b[1;33m\u001b[0m\u001b[0m\n",
      "\u001b[1;32mc:\\users\\garda\\appdata\\local\\programs\\python\\python38-32\\lib\\site-packages\\selenium\\webdriver\\remote\\webelement.py\u001b[0m in \u001b[0;36m_execute\u001b[1;34m(self, command, params)\u001b[0m\n\u001b[0;32m    631\u001b[0m             \u001b[0mparams\u001b[0m \u001b[1;33m=\u001b[0m \u001b[1;33m{\u001b[0m\u001b[1;33m}\u001b[0m\u001b[1;33m\u001b[0m\u001b[1;33m\u001b[0m\u001b[0m\n\u001b[0;32m    632\u001b[0m         \u001b[0mparams\u001b[0m\u001b[1;33m[\u001b[0m\u001b[1;34m'id'\u001b[0m\u001b[1;33m]\u001b[0m \u001b[1;33m=\u001b[0m \u001b[0mself\u001b[0m\u001b[1;33m.\u001b[0m\u001b[0m_id\u001b[0m\u001b[1;33m\u001b[0m\u001b[1;33m\u001b[0m\u001b[0m\n\u001b[1;32m--> 633\u001b[1;33m         \u001b[1;32mreturn\u001b[0m \u001b[0mself\u001b[0m\u001b[1;33m.\u001b[0m\u001b[0m_parent\u001b[0m\u001b[1;33m.\u001b[0m\u001b[0mexecute\u001b[0m\u001b[1;33m(\u001b[0m\u001b[0mcommand\u001b[0m\u001b[1;33m,\u001b[0m \u001b[0mparams\u001b[0m\u001b[1;33m)\u001b[0m\u001b[1;33m\u001b[0m\u001b[1;33m\u001b[0m\u001b[0m\n\u001b[0m\u001b[0;32m    634\u001b[0m \u001b[1;33m\u001b[0m\u001b[0m\n\u001b[0;32m    635\u001b[0m     \u001b[1;32mdef\u001b[0m \u001b[0mfind_element\u001b[0m\u001b[1;33m(\u001b[0m\u001b[0mself\u001b[0m\u001b[1;33m,\u001b[0m \u001b[0mby\u001b[0m\u001b[1;33m=\u001b[0m\u001b[0mBy\u001b[0m\u001b[1;33m.\u001b[0m\u001b[0mID\u001b[0m\u001b[1;33m,\u001b[0m \u001b[0mvalue\u001b[0m\u001b[1;33m=\u001b[0m\u001b[1;32mNone\u001b[0m\u001b[1;33m)\u001b[0m\u001b[1;33m:\u001b[0m\u001b[1;33m\u001b[0m\u001b[1;33m\u001b[0m\u001b[0m\n",
      "\u001b[1;32mc:\\users\\garda\\appdata\\local\\programs\\python\\python38-32\\lib\\site-packages\\selenium\\webdriver\\remote\\webdriver.py\u001b[0m in \u001b[0;36mexecute\u001b[1;34m(self, driver_command, params)\u001b[0m\n\u001b[0;32m    319\u001b[0m         \u001b[0mresponse\u001b[0m \u001b[1;33m=\u001b[0m \u001b[0mself\u001b[0m\u001b[1;33m.\u001b[0m\u001b[0mcommand_executor\u001b[0m\u001b[1;33m.\u001b[0m\u001b[0mexecute\u001b[0m\u001b[1;33m(\u001b[0m\u001b[0mdriver_command\u001b[0m\u001b[1;33m,\u001b[0m \u001b[0mparams\u001b[0m\u001b[1;33m)\u001b[0m\u001b[1;33m\u001b[0m\u001b[1;33m\u001b[0m\u001b[0m\n\u001b[0;32m    320\u001b[0m         \u001b[1;32mif\u001b[0m \u001b[0mresponse\u001b[0m\u001b[1;33m:\u001b[0m\u001b[1;33m\u001b[0m\u001b[1;33m\u001b[0m\u001b[0m\n\u001b[1;32m--> 321\u001b[1;33m             \u001b[0mself\u001b[0m\u001b[1;33m.\u001b[0m\u001b[0merror_handler\u001b[0m\u001b[1;33m.\u001b[0m\u001b[0mcheck_response\u001b[0m\u001b[1;33m(\u001b[0m\u001b[0mresponse\u001b[0m\u001b[1;33m)\u001b[0m\u001b[1;33m\u001b[0m\u001b[1;33m\u001b[0m\u001b[0m\n\u001b[0m\u001b[0;32m    322\u001b[0m             response['value'] = self._unwrap_value(\n\u001b[0;32m    323\u001b[0m                 response.get('value', None))\n",
      "\u001b[1;32mc:\\users\\garda\\appdata\\local\\programs\\python\\python38-32\\lib\\site-packages\\selenium\\webdriver\\remote\\errorhandler.py\u001b[0m in \u001b[0;36mcheck_response\u001b[1;34m(self, response)\u001b[0m\n\u001b[0;32m    240\u001b[0m                 \u001b[0malert_text\u001b[0m \u001b[1;33m=\u001b[0m \u001b[0mvalue\u001b[0m\u001b[1;33m[\u001b[0m\u001b[1;34m'alert'\u001b[0m\u001b[1;33m]\u001b[0m\u001b[1;33m.\u001b[0m\u001b[0mget\u001b[0m\u001b[1;33m(\u001b[0m\u001b[1;34m'text'\u001b[0m\u001b[1;33m)\u001b[0m\u001b[1;33m\u001b[0m\u001b[1;33m\u001b[0m\u001b[0m\n\u001b[0;32m    241\u001b[0m             \u001b[1;32mraise\u001b[0m \u001b[0mexception_class\u001b[0m\u001b[1;33m(\u001b[0m\u001b[0mmessage\u001b[0m\u001b[1;33m,\u001b[0m \u001b[0mscreen\u001b[0m\u001b[1;33m,\u001b[0m \u001b[0mstacktrace\u001b[0m\u001b[1;33m,\u001b[0m \u001b[0malert_text\u001b[0m\u001b[1;33m)\u001b[0m\u001b[1;33m\u001b[0m\u001b[1;33m\u001b[0m\u001b[0m\n\u001b[1;32m--> 242\u001b[1;33m         \u001b[1;32mraise\u001b[0m \u001b[0mexception_class\u001b[0m\u001b[1;33m(\u001b[0m\u001b[0mmessage\u001b[0m\u001b[1;33m,\u001b[0m \u001b[0mscreen\u001b[0m\u001b[1;33m,\u001b[0m \u001b[0mstacktrace\u001b[0m\u001b[1;33m)\u001b[0m\u001b[1;33m\u001b[0m\u001b[1;33m\u001b[0m\u001b[0m\n\u001b[0m\u001b[0;32m    243\u001b[0m \u001b[1;33m\u001b[0m\u001b[0m\n\u001b[0;32m    244\u001b[0m     \u001b[1;32mdef\u001b[0m \u001b[0m_value_or_default\u001b[0m\u001b[1;33m(\u001b[0m\u001b[0mself\u001b[0m\u001b[1;33m,\u001b[0m \u001b[0mobj\u001b[0m\u001b[1;33m,\u001b[0m \u001b[0mkey\u001b[0m\u001b[1;33m,\u001b[0m \u001b[0mdefault\u001b[0m\u001b[1;33m)\u001b[0m\u001b[1;33m:\u001b[0m\u001b[1;33m\u001b[0m\u001b[1;33m\u001b[0m\u001b[0m\n",
      "\u001b[1;31mElementClickInterceptedException\u001b[0m: Message: element click intercepted: Element <button class=\"MuiButton-root MuiButton-text MuiButton-textPrimary MuiButton-sizeMedium MuiButton-textSizeMedium MuiButton-fullWidth MuiButtonBase-root MuiTypography-root MuiTypography-body1 css-1g8lugt-MuiButtonBase-root-MuiButton-root-MuiTypography-root\" tabindex=\"0\" type=\"button\" id=\"destinationAirportButton\">...</button> is not clickable at point (742, 256). Other element would receive the click: <span class=\"MuiButton-label css-8xplcm-MuiButton-label\">...</span>\n  (Session info: chrome=94.0.4606.61)\n"
     ]
    }
   ],
   "source": [
    "btn_destination_to.click()"
   ]
  },
  {
   "cell_type": "code",
   "execution_count": 44,
   "metadata": {},
   "outputs": [
    {
     "name": "stdout",
     "output_type": "stream",
     "text": [
      "[<button class=\"MuiButton-root MuiButton-text MuiButton-textPrimary MuiButton-sizeMedium MuiButton-textSizeMedium MuiButton-fullWidth MuiButtonBase-root MuiTypography-root MuiTypography-body1 css-1s89g7w-MuiButtonBase-root-MuiButton-root-MuiTypography-root\" id=\"originAirportButton\" tabindex=\"0\" type=\"button\"><span class=\"MuiButton-label css-8xplcm-MuiButton-label\"><svg aria-hidden=\"true\" class=\"MuiSvgIcon-root MuiSvgIcon-colorPrimary MuiSvgIcon-fontSizeMedium css-1p2aw2h-MuiSvgIcon-root\" focusable=\"false\" viewbox=\"0 0 24 24\"><svg viewbox=\"0 2 36 36\"><path d=\"M33.91,12.59A1,1,0,0,0,33,12H25a1,1,0,0,0-.74.33,39.66,39.66,0,0,1-3.71,3.55l-5.22-1.82A1,1,0,0,0,15,14H9a1,1,0,0,0-.66,1.75l7.19,6.3h0c.24-.14.45-.27.64-.4a1,1,0,0,0,.44-.77,1,1,0,0,0-.33-.82L11.66,16h3.17L20.43,18a1,1,0,0,0,1-.18,41.89,41.89,0,0,0,4-3.77h5.3A50.62,50.62,0,0,1,9.24,27.87l-4.55-4L6.07,23l3.71,1.57a1,1,0,0,0,.79,0c.54-.24,1.83-.85,3.11-1.51l-1.62-1.42c-.73.37-1.42.7-1.9.92L6.39,21a1,1,0,0,0-.9.06l-3,1.78a1,1,0,0,0-.49.76,1,1,0,0,0,.34.84l6,5.34A1,1,0,0,0,9,30,1,1,0,0,0,9.3,30,53.2,53.2,0,0,0,33.75,13.66,1,1,0,0,0,33.91,12.59Z\"></path></svg></svg><div class=\"MuiBox-root css-1isemmb\">Hvaðan?</div></span></button>]\n"
     ]
    }
   ],
   "source": [
    "from_destination_button = soup.find_all(\"button\", {\"id\": \"originAirportButton\"})\n",
    "from_destination_button.click()\n",
    "print(from_destination_button)"
   ]
  }
 ],
 "metadata": {
  "kernelspec": {
   "display_name": "Python 3",
   "language": "python",
   "name": "python3"
  },
  "language_info": {
   "codemirror_mode": {
    "name": "ipython",
    "version": 3
   },
   "file_extension": ".py",
   "mimetype": "text/x-python",
   "name": "python",
   "nbconvert_exporter": "python",
   "pygments_lexer": "ipython3",
   "version": "3.8.0"
  }
 },
 "nbformat": 4,
 "nbformat_minor": 2
}
